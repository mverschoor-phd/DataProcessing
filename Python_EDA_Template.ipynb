{
  "nbformat": 4,
  "nbformat_minor": 0,
  "metadata": {
    "colab": {
      "name": "Python_EDA_Template.ipynb",
      "provenance": [],
      "collapsed_sections": []
    },
    "kernelspec": {
      "name": "python3",
      "display_name": "Python 3"
    },
    "language_info": {
      "name": "python"
    }
  },
  "cells": [
    {
      "cell_type": "markdown",
      "source": [
        "# Exploratory Data Analysis\n",
        "\n",
        "* Author: \n",
        "* Date created: \n",
        "* Project: \n",
        "* Study: \n",
        "* Associated Files:"
      ],
      "metadata": {
        "id": "XN75ro-P0Urj"
      }
    },
    {
      "cell_type": "markdown",
      "source": [
        "### Import libraries"
      ],
      "metadata": {
        "id": "Z-1gZJ2I0Z26"
      }
    },
    {
      "cell_type": "code",
      "execution_count": null,
      "metadata": {
        "id": "d4nREyS9zMvE"
      },
      "outputs": [],
      "source": [
        "import pandas as pd\n",
        "import numpy as np\n",
        "import matplotlib.pyplot as plt\n",
        "%matplotlib inline\n",
        "import scipy.stats as stats"
      ]
    },
    {
      "cell_type": "markdown",
      "source": [
        "### Load data file"
      ],
      "metadata": {
        "id": "JvYL1f3h01Fj"
      }
    },
    {
      "cell_type": "code",
      "source": [
        "from google.colab import files\n",
        "uploaded = files.upload()"
      ],
      "metadata": {
        "id": "ggedFq5N00QL"
      },
      "execution_count": null,
      "outputs": []
    },
    {
      "cell_type": "code",
      "source": [
        "#Read uploaded csv from local drive into colab notebook with io\n",
        "import io\n",
        "\n",
        "df = pd.read_csv(io.BytesIO(uploaded['Your File name.csv']))"
      ],
      "metadata": {
        "id": "s2K9r_VN0-q8"
      },
      "execution_count": null,
      "outputs": []
    },
    {
      "cell_type": "markdown",
      "source": [
        "### Examine the dataset"
      ],
      "metadata": {
        "id": "NlvdBCTR1wwS"
      }
    },
    {
      "cell_type": "code",
      "source": [
        "#Examine first 5 rows\n",
        "df.head()"
      ],
      "metadata": {
        "id": "8sHY_gLF12FB"
      },
      "execution_count": null,
      "outputs": []
    },
    {
      "cell_type": "code",
      "source": [
        "#Run descriptive stats on numeric columns\n",
        "df.describe()"
      ],
      "metadata": {
        "id": "alVSg-Rw1bKD"
      },
      "execution_count": null,
      "outputs": []
    },
    {
      "cell_type": "code",
      "source": [
        "#Examine datatypes in dataset\n",
        "df.dtypes"
      ],
      "metadata": {
        "id": "DRKjazhb1ouc"
      },
      "execution_count": null,
      "outputs": []
    },
    {
      "cell_type": "code",
      "source": [
        "#Look for number of null values in each column\n",
        "df.isnull().sum()"
      ],
      "metadata": {
        "id": "4AY5q7-X2CHy"
      },
      "execution_count": null,
      "outputs": []
    },
    {
      "cell_type": "markdown",
      "source": [
        "If there are missing values:\n",
        "* Drop the column if there are more than 25% and you can't immute them\n",
        "* If immutation is an option:\n",
        "  * Use the median\n",
        "  * Use the mean\n",
        "  * Immute random integer from within the range of values from the dataset"
      ],
      "metadata": {
        "id": "CTl-fw37K3cy"
      }
    },
    {
      "cell_type": "markdown",
      "source": [
        "# Optional code block for immutation of a null value with a random sample\n",
        "## Function - Impute na"
      ],
      "metadata": {
        "id": "5Y355bT2L0eE"
      }
    },
    {
      "cell_type": "code",
      "source": [
        "def impute_na(data,variable):\n",
        "  #function to fill na with a random sample\n",
        "  df = data.copy()\n",
        "\n",
        "  #random sampling\n",
        "  df[variable+'_random'] = df[variable]\n",
        "\n",
        "  #extract the random sample to fill the na values\n",
        "  random_sample = df[variable].dropna().sample(df[variable].isnull().sum(), random_state=0)\n",
        "\n",
        "  #pandas needs to have the same index to merge datasets\n",
        "  random_sample.index = df[df[variable].isnull()].index\n",
        "  df.loc[df[variable].isnull(), variable+'_random'] = random_sample\n",
        "\n",
        "  return df[variable+'_random']"
      ],
      "metadata": {
        "id": "FnA13bZPLvYO"
      },
      "execution_count": null,
      "outputs": []
    },
    {
      "cell_type": "markdown",
      "source": [
        "##Function - Diagnostic plots"
      ],
      "metadata": {
        "id": "giXBT29nUWCA"
      }
    },
    {
      "cell_type": "code",
      "source": [
        "def diagnostic_plots(df, variable):\n",
        "  #function to plot a histogram and Q-Q plot, side-by-side, and gives the skew and kurtosis for a variable\n",
        "\n",
        "  plt.figure(figsize=(15,6))\n",
        "  plt.subplot(1,2,1)\n",
        "  df[variable].hist()\n",
        "\n",
        "  plt.subplot(1,2,2)\n",
        "  stats.probplot(df[variable], dist=\"norm\", plot=plt)\n",
        "\n",
        "  plt.show()\n",
        "\n",
        "  #Print the skew and kurtosis of the distribution below the plots, can change decimal precision as needed\n",
        "  print('Skew is', df[variable].skew().round(decimals=3), 'and kurtosis is', df[variable].kurtosis().round(decimals=3))"
      ],
      "metadata": {
        "id": "0CuVsKR2TdTC"
      },
      "execution_count": null,
      "outputs": []
    },
    {
      "cell_type": "markdown",
      "source": [
        "##Run Diagnostic Plot function on all numeric variables"
      ],
      "metadata": {
        "id": "yJQnuitQVKu4"
      }
    },
    {
      "cell_type": "code",
      "source": [
        "diagnostic_plots(df,'Your variable')"
      ],
      "metadata": {
        "id": "AouuqFUGUpZD"
      },
      "execution_count": null,
      "outputs": []
    },
    {
      "cell_type": "markdown",
      "source": [
        "# Transformations for non-normal distributions"
      ],
      "metadata": {
        "id": "LX1EnE6nZJ-n"
      }
    },
    {
      "cell_type": "code",
      "source": [
        "def transformation_plots(df, variable):\n",
        "  df[variable+'_log'] = np.log(df[variable]+1)\n",
        "  df[variable+'_sqrt'] = df[variable]**(1/2)\n",
        "  df[variable+'_cbrt'] = df[variable]**(1/3)\n",
        "  df[variable+'_boxcox'], param = stats.boxcox(df[variable])\n",
        "  \n",
        "  fig = plt.figure(figsize=(16,19))\n",
        "  fig.suptitle('Transformation Plots for {}'.format(variable), fontsize=18, y=0.93)\n",
        "\n",
        "  #Plot 1\n",
        "  plt.subplot(3,2,1)\n",
        "  df[variable].hist()\n",
        "  plt.grid(False)\n",
        "  plt.title('Original Data', fontsize=14)\n",
        "  plt.xlabel('Skew is {} and Kurtosis is {}'.format(df[variable].skew().round(decimals=3),df[variable].kurtosis().round(decimals=3)), fontsize=12)\n",
        "\n",
        "  #Plot 2\n",
        "  plt.subplot(3,2,2)\n",
        "  stats.probplot(df[variable], dist=\"norm\", plot=plt)\n",
        "  plt.title('Q-Q Plot', fontsize=14)\n",
        "\n",
        "  #Plot 3\n",
        "  plt.subplot(3,2,3)\n",
        "  plt.hist(df[variable+'_log'])\n",
        "  plt.title('Log Transform', fontsize=14)\n",
        "  plt.xlabel('Skew is {} and Kurtosis is {}'.format(df[variable+'_log'].skew().round(decimals=3),df[variable+'_log'].kurtosis().round(decimals=3)), fontsize=12)\n",
        "\n",
        "  #Plot 4\n",
        "  plt.subplot(3,2,4)\n",
        "  plt.hist(df[variable+'_sqrt'])\n",
        "  plt.title('Square Root Transform', fontsize=14)\n",
        "  plt.xlabel('Skew is {} and Kurtosis is {}'.format(df[variable+'_sqrt'].skew().round(decimals=3),df[variable+'_sqrt'].kurtosis().round(decimals=3)), fontsize=12)\n",
        "\n",
        "  #Plot 5\n",
        "  plt.subplot(3,2,5)\n",
        "  plt.hist(df[variable+'_cbrt'])\n",
        "  plt.title('Cube Root Transform', fontsize=14)\n",
        "  plt.xlabel('Skew is {} and Kurtosis is {}'.format(df[variable+'_cbrt'].skew().round(decimals=3),df[variable+'_cbrt'].kurtosis().round(decimals=3)), fontsize=12)\n",
        "\n",
        "  #Plot 6\n",
        "  plt.subplot(3,2,6)\n",
        "  plt.hist(df[variable+'_boxcox'])\n",
        "  plt.title('Box Cox Transformation with lambda {}'.format(param.round(decimals=3)), fontsize=14)\n",
        "  plt.xlabel('Skew is {} and Kurtosis is {}'.format(df[variable+'_boxcox'].skew().round(decimals=3),df[variable+'_boxcox'].kurtosis().round(decimals=3)), fontsize=12)"
      ],
      "metadata": {
        "id": "uLzVpCkt0JYC"
      },
      "execution_count": 4,
      "outputs": []
    },
    {
      "cell_type": "code",
      "source": [
        "transformation_plots(df, 'Your variable')"
      ],
      "metadata": {
        "id": "8PHB0NwT3aXW"
      },
      "execution_count": null,
      "outputs": []
    },
    {
      "cell_type": "markdown",
      "source": [
        "## Remove unnecessary transformations from dataframe"
      ],
      "metadata": {
        "id": "I7mjIH4fDBL_"
      }
    },
    {
      "cell_type": "code",
      "source": [
        "#Look at dataframe and what columns it has\n",
        "df.columns"
      ],
      "metadata": {
        "id": "PiZJ93GaB9NP"
      },
      "execution_count": null,
      "outputs": []
    },
    {
      "cell_type": "code",
      "source": [
        "df2_trans = df2.drop(['']) #include columns with unnecessary transformations in square brackets"
      ],
      "metadata": {
        "id": "MQnMdzuIEzI9"
      },
      "execution_count": null,
      "outputs": []
    },
    {
      "cell_type": "code",
      "source": [
        "#Look at dataframe columns again to make sure they are correct\n",
        "df2_trans.columns"
      ],
      "metadata": {
        "id": "Cprp12heGjD1"
      },
      "execution_count": null,
      "outputs": []
    },
    {
      "cell_type": "markdown",
      "source": [
        "## Export transformed dataset"
      ],
      "metadata": {
        "id": "6u8JyVIxYFMO"
      }
    },
    {
      "cell_type": "code",
      "source": [
        "df2_trans.to_csv (r'your file name.csv', index = None, header=True) #Index = none is important or resulting csv will have extra row with dataframe index values"
      ],
      "metadata": {
        "id": "Xhn3BXxNHgtG"
      },
      "execution_count": null,
      "outputs": []
    }
  ]
}